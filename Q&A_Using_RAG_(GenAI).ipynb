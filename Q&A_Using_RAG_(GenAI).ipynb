{
  "nbformat": 4,
  "nbformat_minor": 0,
  "metadata": {
    "colab": {
      "provenance": [],
      "authorship_tag": "ABX9TyOf6hqQH2rzLE7cvI7kDMsV",
      "include_colab_link": true
    },
    "kernelspec": {
      "name": "python3",
      "display_name": "Python 3"
    },
    "language_info": {
      "name": "python"
    }
  },
  "cells": [
    {
      "cell_type": "markdown",
      "metadata": {
        "id": "view-in-github",
        "colab_type": "text"
      },
      "source": [
        "<a href=\"https://colab.research.google.com/github/Bazinga97/Q-A-chatbot/blob/main/Q%26A_Using_RAG_(GenAI).ipynb\" target=\"_parent\"><img src=\"https://colab.research.google.com/assets/colab-badge.svg\" alt=\"Open In Colab\"/></a>"
      ]
    },
    {
      "cell_type": "code",
      "execution_count": null,
      "metadata": {
        "colab": {
          "base_uri": "https://localhost:8080/"
        },
        "id": "Wh1bxereAqIE",
        "outputId": "09d9e141-db25-4898-e43b-d806fdff191a"
      },
      "outputs": [
        {
          "output_type": "stream",
          "name": "stdout",
          "text": [
            "Collecting python-docx\n",
            "  Downloading python_docx-1.1.2-py3-none-any.whl (244 kB)\n",
            "\u001b[2K     \u001b[90m━━━━━━━━━━━━━━━━━━━━━━━━━━━━━━━━━━━━━━━━\u001b[0m \u001b[32m244.3/244.3 kB\u001b[0m \u001b[31m1.5 MB/s\u001b[0m eta \u001b[36m0:00:00\u001b[0m\n",
            "\u001b[?25hRequirement already satisfied: lxml>=3.1.0 in /usr/local/lib/python3.10/dist-packages (from python-docx) (4.9.4)\n",
            "Requirement already satisfied: typing-extensions>=4.9.0 in /usr/local/lib/python3.10/dist-packages (from python-docx) (4.12.0)\n",
            "Installing collected packages: python-docx\n",
            "Successfully installed python-docx-1.1.2\n"
          ]
        }
      ],
      "source": [
        "# Installing Required Libraries\n",
        "%pip install python-docx\n",
        "%pip install python-pptx\n",
        "%pip install PyPDF2\n",
        "%pip install langchain\n",
        "%pip install langchain_community\n",
        "%pip install langchain_google_genai\n",
        "%pip install langchain_text_splitters\n",
        "%pip install sentence-transformers\n",
        "%pip install faiss-cpu\n",
        "%pip install cohere"
      ]
    },
    {
      "cell_type": "code",
      "source": [
        "# necessary Imports\n",
        "from docx import Document\n",
        "from PyPDF2 import PdfReader\n",
        "from pptx import Presentation\n",
        "from langchain_community.llms import Cohere\n",
        "from langchain_community.vectorstores import FAISS\n",
        "from langchain_google_genai import GoogleGenerativeAI\n",
        "from langchain_google_genai import ChatGoogleGenerativeAI\n",
        "from langchain.embeddings import HuggingFaceEmbeddings\n",
        "from langchain_core.runnables import RunnablePassthrough\n",
        "from langchain_core.output_parsers import StrOutputParser\n",
        "from langchain_core.messages import AIMessage, HumanMessage\n",
        "from langchain_google_genai import GoogleGenerativeAIEmbeddings\n",
        "from langchain_text_splitters import RecursiveCharacterTextSplitter\n",
        "from langchain_core.prompts  import PromptTemplate, ChatPromptTemplate, MessagesPlaceholder"
      ],
      "metadata": {
        "id": "4zUMm8i7Awon"
      },
      "execution_count": null,
      "outputs": []
    }
  ]
}